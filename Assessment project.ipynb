{
 "cells": [
  {
   "cell_type": "markdown",
   "metadata": {},
   "source": [
    "# Enter your details in the cells below"
   ]
  },
  {
   "cell_type": "markdown",
   "metadata": {},
   "source": [
    "**Type your fullname here**:\n",
    "Corchil Kelly Kwame"
   ]
  },
  {
   "cell_type": "markdown",
   "metadata": {},
   "source": [
    "**Type your email here**: von_stark@outlook.com"
   ]
  },
  {
   "cell_type": "markdown",
   "metadata": {},
   "source": [
    "#  Project\n",
    "### Problem Statement\n",
    "\n",
    "In the year 2013, a supermarket decided to draw insight from their data in order to make data driven decisions.\n",
    "As a Data Analyst,you are presented with their 2013 daily sales records (sales_data.csv) and tasked to help them find answers to the questions below by analysing the data.\n",
    "\n",
    "1. i. What is the average sales and profit per market? \n",
    "\n",
    "   ii.Plot a stacked bar chart showing the sales and profit per market.\n",
    "\n",
    "   iii.Which market brings more sales on the average?\n",
    "\n",
    "2. i. What are the best 10 performing products with regards to sales in 2013?\n",
    "\n",
    "   ii.What are the least 10 performing products with regards to sales 2013?\n",
    "\n",
    "\n",
    "3. i. Extract the days and months from the Order Date and add them to the data frame with the name \"Days\" and \"Months\" respectively?\n",
    "\n",
    "   ii.Show the trend of profit from January to December with a line plot.\n",
    "\n",
    "   iii. Which month does the company make more profit and what 5 products are sold most in that month?\n",
    "   iv.  which day does the company make high sales on the average?\n",
    "\n",
    "4. i. By analyzing the data, what is the correlation between sales and discount?\n",
    "\n",
    "   ii. Use a scatter plot to show the relationship between sales and profit.\n",
    "\n",
    "5. i. Plot a grouped bar chart showing the total profit for the different product category for each market.\n",
    "   ii. From your graph, which product category performs well in each market?\n",
    "   \n",
    "6. i. Which customer spent the most in the whole year?\n",
    "   ii. What product does the customer in (i) buy the most?\n",
    "   iii. Which month did the customer spent the most?\n",
    "   iv. How much did this customer spend in the whole year?\n",
    "   \n",
    "7. Can you do any other analysis to draw more insight? Feel free to do it.\n",
    "\n",
    "\n",
    "**Thank you**\n",
    "\n",
    "**GOOD LUCK!**\n",
    "\n",
    "\n",
    "\n"
   ]
  },
  {
   "cell_type": "code",
   "execution_count": null,
   "metadata": {},
   "outputs": [],
   "source": [
    "# Use markdowns to write your answers or findings where necessary.\n",
    "# Use comments to exlain you codes where necessary \n",
    "# Remember to import the necessary packages"
   ]
  },
  {
   "cell_type": "markdown",
   "metadata": {},
   "source": [
    "### **NB**: To easily load the data, it's advisable you have the data and the notebook file  in the same folder"
   ]
  },
  {
   "cell_type": "code",
   "execution_count": null,
   "metadata": {},
   "outputs": [],
   "source": [
    "#import your packages here\n",
    "import matplotlib.pyplot as plt\n",
    "import pandas as pd\n",
    "import numpy as np\n"
   ]
  },
  {
   "cell_type": "code",
   "execution_count": 82,
   "metadata": {
    "tags": []
   },
   "outputs": [
    {
     "name": "stderr",
     "output_type": "stream",
     "text": [
      "C:\\Users\\PLC\\anaconda3\\lib\\site-packages\\openpyxl\\worksheet\\_reader.py:312: UserWarning: Web Extension extension is not supported and will be removed\n",
      "  warn(msg)\n"
     ]
    },
    {
     "data": {
      "text/html": [
       "<div>\n",
       "<style scoped>\n",
       "    .dataframe tbody tr th:only-of-type {\n",
       "        vertical-align: middle;\n",
       "    }\n",
       "\n",
       "    .dataframe tbody tr th {\n",
       "        vertical-align: top;\n",
       "    }\n",
       "\n",
       "    .dataframe thead th {\n",
       "        text-align: right;\n",
       "    }\n",
       "</style>\n",
       "<table border=\"1\" class=\"dataframe\">\n",
       "  <thead>\n",
       "    <tr style=\"text-align: right;\">\n",
       "      <th></th>\n",
       "      <th>Unnamed: 0</th>\n",
       "      <th>Order Date</th>\n",
       "      <th>Order ID</th>\n",
       "      <th>Customer ID</th>\n",
       "      <th>Customer Name</th>\n",
       "      <th>Segment</th>\n",
       "      <th>City</th>\n",
       "      <th>Market</th>\n",
       "      <th>Region</th>\n",
       "      <th>Category</th>\n",
       "      <th>Sub-Category</th>\n",
       "      <th>Product Name</th>\n",
       "      <th>Sales</th>\n",
       "      <th>Quantity</th>\n",
       "      <th>Discount</th>\n",
       "      <th>Profit</th>\n",
       "      <th>DAYS</th>\n",
       "      <th>MONTHS</th>\n",
       "    </tr>\n",
       "  </thead>\n",
       "  <tbody>\n",
       "    <tr>\n",
       "      <th>0</th>\n",
       "      <td>6599</td>\n",
       "      <td>2013-08-15</td>\n",
       "      <td>UP-2013-4690</td>\n",
       "      <td>AB-15</td>\n",
       "      <td>Tamara Chand</td>\n",
       "      <td>Corporate</td>\n",
       "      <td>Lafayette</td>\n",
       "      <td>US</td>\n",
       "      <td>Central</td>\n",
       "      <td>Technology</td>\n",
       "      <td>Copiers</td>\n",
       "      <td>Canon imageCLASS 2200 Advanced Copier</td>\n",
       "      <td>17499.950</td>\n",
       "      <td>5</td>\n",
       "      <td>0.0</td>\n",
       "      <td>8399.9760</td>\n",
       "      <td>15</td>\n",
       "      <td>Aug</td>\n",
       "    </tr>\n",
       "    <tr>\n",
       "      <th>1</th>\n",
       "      <td>11027</td>\n",
       "      <td>2013-06-25</td>\n",
       "      <td>IN-2013-37803</td>\n",
       "      <td>AB-10015</td>\n",
       "      <td>Adrian Barton</td>\n",
       "      <td>Consumer</td>\n",
       "      <td>Detroit</td>\n",
       "      <td>US</td>\n",
       "      <td>Central</td>\n",
       "      <td>Office Supplies</td>\n",
       "      <td>Binders</td>\n",
       "      <td>GBC Ibimaster 500 Manual ProClick Binding System</td>\n",
       "      <td>9892.740</td>\n",
       "      <td>13</td>\n",
       "      <td>0.0</td>\n",
       "      <td>4946.3700</td>\n",
       "      <td>25</td>\n",
       "      <td>Jun</td>\n",
       "    </tr>\n",
       "    <tr>\n",
       "      <th>2</th>\n",
       "      <td>13031</td>\n",
       "      <td>2013-10-29</td>\n",
       "      <td>IN-2013-22578</td>\n",
       "      <td>AB-10015</td>\n",
       "      <td>Bill Shonely</td>\n",
       "      <td>Corporate</td>\n",
       "      <td>Lakewood</td>\n",
       "      <td>US</td>\n",
       "      <td>East</td>\n",
       "      <td>Technology</td>\n",
       "      <td>Machines</td>\n",
       "      <td>3D Systems Cube Printer, 2nd Generation, Magenta</td>\n",
       "      <td>9099.930</td>\n",
       "      <td>7</td>\n",
       "      <td>0.0</td>\n",
       "      <td>2365.9818</td>\n",
       "      <td>29</td>\n",
       "      <td>Oct</td>\n",
       "    </tr>\n",
       "    <tr>\n",
       "      <th>3</th>\n",
       "      <td>7967</td>\n",
       "      <td>2013-10-18</td>\n",
       "      <td>ES-2013-1752483</td>\n",
       "      <td>AB-10015</td>\n",
       "      <td>Sanjit Engle</td>\n",
       "      <td>Consumer</td>\n",
       "      <td>Arlington</td>\n",
       "      <td>US</td>\n",
       "      <td>South</td>\n",
       "      <td>Technology</td>\n",
       "      <td>Machines</td>\n",
       "      <td>HP Designjet T520 Inkjet Large Format Printer ...</td>\n",
       "      <td>8749.950</td>\n",
       "      <td>5</td>\n",
       "      <td>0.0</td>\n",
       "      <td>2799.9840</td>\n",
       "      <td>18</td>\n",
       "      <td>Oct</td>\n",
       "    </tr>\n",
       "    <tr>\n",
       "      <th>4</th>\n",
       "      <td>7879</td>\n",
       "      <td>2013-07-18</td>\n",
       "      <td>IN-2013-55933</td>\n",
       "      <td>AB-10015</td>\n",
       "      <td>Christopher Conant</td>\n",
       "      <td>Consumer</td>\n",
       "      <td>Philadelphia</td>\n",
       "      <td>US</td>\n",
       "      <td>East</td>\n",
       "      <td>Technology</td>\n",
       "      <td>Copiers</td>\n",
       "      <td>Canon imageCLASS 2200 Advanced Copier</td>\n",
       "      <td>8399.976</td>\n",
       "      <td>4</td>\n",
       "      <td>0.4</td>\n",
       "      <td>1119.9968</td>\n",
       "      <td>18</td>\n",
       "      <td>Jul</td>\n",
       "    </tr>\n",
       "  </tbody>\n",
       "</table>\n",
       "</div>"
      ],
      "text/plain": [
       "   Unnamed: 0 Order Date         Order ID Customer ID       Customer Name  \\\n",
       "0        6599 2013-08-15     UP-2013-4690       AB-15        Tamara Chand   \n",
       "1       11027 2013-06-25    IN-2013-37803    AB-10015       Adrian Barton   \n",
       "2       13031 2013-10-29    IN-2013-22578    AB-10015        Bill Shonely   \n",
       "3        7967 2013-10-18  ES-2013-1752483    AB-10015        Sanjit Engle   \n",
       "4        7879 2013-07-18    IN-2013-55933    AB-10015  Christopher Conant   \n",
       "\n",
       "     Segment          City Market   Region         Category Sub-Category  \\\n",
       "0  Corporate     Lafayette     US  Central       Technology      Copiers   \n",
       "1   Consumer       Detroit     US  Central  Office Supplies      Binders   \n",
       "2  Corporate      Lakewood     US     East       Technology     Machines   \n",
       "3   Consumer     Arlington     US    South       Technology     Machines   \n",
       "4   Consumer  Philadelphia     US     East       Technology      Copiers   \n",
       "\n",
       "                                        Product Name      Sales  Quantity  \\\n",
       "0              Canon imageCLASS 2200 Advanced Copier  17499.950         5   \n",
       "1   GBC Ibimaster 500 Manual ProClick Binding System   9892.740        13   \n",
       "2   3D Systems Cube Printer, 2nd Generation, Magenta   9099.930         7   \n",
       "3  HP Designjet T520 Inkjet Large Format Printer ...   8749.950         5   \n",
       "4              Canon imageCLASS 2200 Advanced Copier   8399.976         4   \n",
       "\n",
       "   Discount     Profit  DAYS MONTHS  \n",
       "0       0.0  8399.9760    15    Aug  \n",
       "1       0.0  4946.3700    25    Jun  \n",
       "2       0.0  2365.9818    29    Oct  \n",
       "3       0.0  2799.9840    18    Oct  \n",
       "4       0.4  1119.9968    18    Jul  "
      ]
     },
     "execution_count": 82,
     "metadata": {},
     "output_type": "execute_result"
    }
   ],
   "source": [
    "# Load the sales data here\n",
    "\n",
    "sales_data= pd.read_csv(r\"C:\\Users\\PLC\\Documents\\BLOSSOM ACADEMY\\sales_data.csv\")\n",
    "sales_data.head()"
   ]
  },
  {
   "cell_type": "markdown",
   "metadata": {},
   "source": [
    "<H1 styles= \"font-size:2rem;color:black;\"> Project Answers </h1>"
   ]
  },
  {
   "cell_type": "markdown",
   "metadata": {},
   "source": [
    "<H4 styles=\"font-size:1rem;color:black;\"> Question 1 </h4>"
   ]
  },
  {
   "cell_type": "markdown",
   "metadata": {},
   "source": [
    "<H5 styles=\"font-size:1rem;color:black;\"> (i)Average Sales & Profit per market </h5>"
   ]
  },
  {
   "cell_type": "markdown",
   "metadata": {},
   "source": [
    "         \n",
    "      \n",
    "|Markets | Sales | Profits |\n",
    "| --- | --- | --- |\n",
    "|AFRICA |  177.02 |20.62   |\n",
    "|APAC | 337.23 |    42.60 |\n",
    "|CANADA |180.77 | 48.39  |\n",
    "|EMEA | 156.45  |8.10   |\n",
    "|EU | 297.42  |38.37   |\n",
    "|LATAM |198.74 | 20.07 |\n",
    "|US |235.84  |31.68 |"
   ]
  },
  {
   "cell_type": "markdown",
   "metadata": {},
   "source": [
    "<H5 styles=\"font-size:1rem;color:black;\"> (ii)Stacked Bar Chart </h5>"
   ]
  },
  {
   "cell_type": "code",
   "execution_count": 72,
   "metadata": {},
   "outputs": [
    {
     "name": "stdout",
     "output_type": "stream",
     "text": [
      "  MARKETS       Sale     Profit\n",
      "0  AFRICA  229068.79   26687.11\n",
      "1    APAC  974580.86  123103.13\n",
      "2  CANADA   19161.15    5129.46\n",
      "3    EMEA  204640.68   10598.04\n",
      "4      EU  761680.37   98275.19\n",
      "5   LATAM  608140.77   61415.37\n",
      "6      US  608473.83   81726.93\n"
     ]
    },
    {
     "data": {
      "text/plain": [
       "<AxesSubplot:title={'center':'Stacked Bar Graph showing Sales and Profit per market'}, xlabel='MARKETS'>"
      ]
     },
     "execution_count": 72,
     "metadata": {},
     "output_type": "execute_result"
    },
    {
     "data": {
      "image/png": "[encoded data removed]",
      "text/plain": [
       "<Figure size 432x288 with 1 Axes>"
      ]
     },
     "metadata": {
      "needs_background": "light"
     },
     "output_type": "display_data"
    }
   ],
   "source": [
    "# create data\n",
    "df = pd.DataFrame([['AFRICA',  229068.79 , 26687.11,], \n",
    "                   ['APAC',  974580.86 , 123103.13,], \n",
    "                   ['CANADA',  19161.15 , 5129.46,],\n",
    "                   ['EMEA',  204640.68 , 10598.04, ],\n",
    "                   ['EU',  761680.37 , 98275.19,],\n",
    "                   ['LATAM',  608140.77 , 61415.37,],\n",
    "                  ['US',  608473.83 , 81726.93, ]],\n",
    "                  columns=['MARKETS', 'Sale', 'Profit',])\n",
    "# view data\n",
    "print(df)\n",
    "  \n",
    "# plot data in stack manner of bar type\n",
    "df.plot(x='MARKETS', kind='bar', stacked=True,\n",
    "        title=  'Stacked Bar Graph showing Sales and Profit per market')"
   ]
  },
  {
   "cell_type": "markdown",
   "metadata": {},
   "source": [
    "<H5 styles=\"font-size:1rem;color:black;\"> (iii)Which Market brings more sales on the average </h5>\n",
    "<H6 styles=\"font-size:1rem;color:black;\"> APAC </h6>"
   ]
  },
  {
   "cell_type": "markdown",
   "metadata": {},
   "source": [
    "<H4 styles=\"font-size:1rem;color:black;\"> Question 2 </h4>"
   ]
  },
  {
   "cell_type": "markdown",
   "metadata": {},
   "source": [
    "<H5 styles=\"font-size:1rem;color:black;\"> (i) 10 Best Performing Sales Products </h5>"
   ]
  },
  {
   "cell_type": "markdown",
   "metadata": {},
   "source": [
    "      \n",
    "|BEST PERFORMING SALES PRODUCTS | \n",
    "| --- | \n",
    "|Motorola Smart Phone, Full Size|\n",
    "|Cisco Smart Phone, Full Size |\n",
    "|Canon imageCLASS 2200 Advanced Copier |\n",
    "|Harbour Creations Executive Leather Armchair,Adjustable |\n",
    "|Apple Smart Phone, Full Size |\n",
    "|Hon Executive Leather Armchair, Adjustable|\n",
    "|Office Star Executive Leather Armchair, Adjustable|\n",
    "|Nokia Smart Phone, with Caller ID|\n",
    "|Samsung Smart Phone, VoIP |\n",
    "|Nokia Smart Phone, Full Size |"
   ]
  },
  {
   "cell_type": "markdown",
   "metadata": {},
   "source": [
    "<H5 styles=\"font-size:1rem;color:black;\"> (i) 10 Least Performing Sales Products </h5>"
   ]
  },
  {
   "cell_type": "markdown",
   "metadata": {},
   "source": [
    "      \n",
    "|LEAST PERFORMING SALES PRODUCTS | \n",
    "| --- | \n",
    "|Newell 310 |\n",
    "|OIC #2 Pencils, Medium Soft |\n",
    "|Avery Durable Binders |\n",
    "|Maxell 4.7GB DVD+R 5/Pack |\n",
    "|Acco Banker's Clasps, 5 3/4\"-Long |\n",
    "|Avery 479|\n",
    "|Acco 3-Hole Punch |\n",
    "|Eldon Spacemaker Box, Quick-Snap Lid, Clear |\n",
    "|Newell 32 |\n",
    "|Crayola Anti Dust Chalk, 12/Pack |"
   ]
  },
  {
   "cell_type": "markdown",
   "metadata": {},
   "source": [
    "<H4 styles=\"font-size:1rem;color:black;\"> Question 3 </h4>"
   ]
  },
  {
   "cell_type": "markdown",
   "metadata": {},
   "source": [
    "<H5 styles=\"font-size:1rem;color:black;\"> (ii) Line Plot for Profit Trends </h5>"
   ]
  },
  {
   "cell_type": "code",
   "execution_count": 38,
   "metadata": {},
   "outputs": [
    {
     "data": {
      "image/png": "[encoded data removed]",
      "text/plain": [
       "<Figure size 432x288 with 1 Axes>"
      ]
     },
     "metadata": {
      "needs_background": "light"
     },
     "output_type": "display_data"
    }
   ],
   "source": [
    "from matplotlib import pyplot as plt \n",
    "  \n",
    "# x-axis values \n",
    "x = ['Jan','Feb','Mar','Apr','May','Jun','Jul','Aug', 'Sep','Oct','Nov','Dec'] \n",
    "  \n",
    "# Y-axis values \n",
    "y = [26052.40,31554.00, 34873.72, 26008.05,39053.31,43298.85, \n",
    "                 27019.91,32977.76,18850.09,27871.97,51720.89,47654.28 ] \n",
    "  \n",
    "# Function to plot \n",
    "plt.plot(x, y) \n",
    "  \n",
    "# function to show the plot \n",
    "plt.show()"
   ]
  },
  {
   "cell_type": "markdown",
   "metadata": {},
   "source": [
    "<h5 styles=\"font-size:1rem; color:black\"> (iii) Month the company makes\n",
    " more profit & 5 products are sold most in that month </h5>\n"
   ]
  },
  {
   "cell_type": "markdown",
   "metadata": {},
   "source": [
    "<h5 styles=\"font-size:1rem; color:black\"> Month = November </h5>\n",
    "\n",
    "|MOST SOLD PRODUCTS | \n",
    "| --- | \n",
    "|Staples |\n",
    "|Tenex Lockers, Wire Frame |\n",
    "|Novimex Shipping Labels, 5000 Label Set |\n",
    "|Cardinal Binding Machine, Clear |\n",
    "|Smead Shelving, Wire Frame|"
   ]
  },
  {
   "cell_type": "markdown",
   "metadata": {},
   "source": [
    "<h5 styles=\"font-size:1rem; color:black\"> (iv) Day company makes high sales on the average </h5>"
   ]
  },
  {
   "cell_type": "code",
   "execution_count": null,
   "metadata": {},
   "outputs": [],
   "source": [
    "10 May"
   ]
  },
  {
   "cell_type": "markdown",
   "metadata": {},
   "source": [
    "<H4 styles=\"font-size:1rem;color:black;\"> Question 4 </h4>"
   ]
  },
  {
   "cell_type": "markdown",
   "metadata": {},
   "source": [
    "<h5 styles=\"font-size:1rem; color:black\"> (i) Corelation between sales and discount </h5>\n",
    "<h5 styles=\"font-size:1rem; color:black\"> -0.084709811 - No Correlation </h5>"
   ]
  },
  {
   "cell_type": "markdown",
   "metadata": {},
   "source": [
    "<h5 styles=\"font-size:1rem; color:black\"> (ii) Scatter Plot </h5>"
   ]
  },
  {
   "cell_type": "code",
   "execution_count": 51,
   "metadata": {},
   "outputs": [
    {
     "data": {
      "image/png": "[encoded data removed]",
      "text/plain": [
       "<Figure size 720x432 with 1 Axes>"
      ]
     },
     "metadata": {
      "needs_background": "light"
     },
     "output_type": "display_data"
    }
   ],
   "source": [
    "import matplotlib.pyplot as plt\n",
    "import pandas as pd\n",
    "\n",
    "df = pd.read_csv(r\"C:\\Users\\PLC\\Documents\\BLOSSOM ACADEMY\\sales_data.csv\")\n",
    " \n",
    "fig, ax = plt.subplots(figsize=(10, 6))\n",
    "ax.scatter(x = df['Sales'], y = df['Profit'])\n",
    "plt.xlabel(\"Sales\")\n",
    "plt.ylabel(\"Profit\")\n",
    "\n",
    "plt.show()"
   ]
  },
  {
   "cell_type": "markdown",
   "metadata": {},
   "source": [
    "<H4 styles=\"font-size:1rem;color:black;\"> Question 5 </h4>"
   ]
  },
  {
   "cell_type": "markdown",
   "metadata": {},
   "source": [
    "<h5 styles=\"font-size:1rem; color:black\"> (i) Grouped bar chart showing the total profit for \n",
    "the different product category for each market </h5>"
   ]
  },
  {
   "cell_type": "code",
   "execution_count": 73,
   "metadata": {},
   "outputs": [
    {
     "data": {
      "image/png": "[encoded data removed]",
      "text/plain": [
       "<Figure size 432x288 with 1 Axes>"
      ]
     },
     "metadata": {
      "needs_background": "light"
     },
     "output_type": "display_data"
    }
   ],
   "source": [
    "import pandas as pd\n",
    "import numpy as np\n",
    "import matplotlib.pyplot as plt\n",
    " \n",
    "# set width of bars\n",
    "barWidth = 0.20\n",
    " \n",
    "# set heights of bars\n",
    "bars1 = [5549.52, 40527.0294, 902.97, 1030.917, 20642.373,8450.1386, 6959.9531]\n",
    "bars2 = [8941.578, 28955.4189, 1804.53, 8923.512, 42854.847, 22750.186, 35015.6639]\n",
    "bars3 = [12196.014, 53620.6776, 2421.96, 643.614, 34777.965, 30215.04948, 39751.3138]\n",
    " \n",
    "# Set position of bar on X axis\n",
    "r1 = np.arange(len(bars1))\n",
    "r2 = [x + barWidth for x in r1]\n",
    "r3 = [x + barWidth for x in r2]\n",
    " \n",
    "# Make the plot\n",
    "plt.bar(r1, bars1, color='#FF0000', width=barWidth, edgecolor='white', label='Furniture')\n",
    "plt.bar(r2, bars2, color='#557f2d', width=barWidth, edgecolor='white', label='Office Supply')\n",
    "plt.bar(r3, bars3, color='#0000FF', width=barWidth, edgecolor='white', label='Technology')\n",
    " \n",
    "# Add xticks on the middle of the group bars\n",
    "plt.xlabel('Markets', fontweight='bold')\n",
    "plt.xticks([r + barWidth for r in range(len(bars1))], ['AFRICA', 'APAC', 'CANADA', 'EMEA', 'EU','LATAM','US'])\n",
    "\n",
    "# Create legend & Show graphic\n",
    "plt.legend()\n",
    "plt.show()"
   ]
  },
  {
   "cell_type": "markdown",
   "metadata": {},
   "source": [
    "<h5 styles=\"font-size:1rem; color:black\"> (ii) Which product category performs well in each market </h5>"
   ]
  },
  {
   "cell_type": "markdown",
   "metadata": {},
   "source": [
    "        \n",
    "|Markets | Technology | \n",
    "| --- | --- | \n",
    "|AFRICA |  TECHNOLOGY |\n",
    "|APAC | TECHNOLOGY | \n",
    "|CANADA |TECHNOLOGY|\n",
    "|EMEA | OFFICE SUPPLIES  |\n",
    "|EU | OFFICE SUPPLIES  |\n",
    "|LATAM |TECHNOLOGY | \n",
    "|US |TECHNOLOGY  |\n"
   ]
  },
  {
   "cell_type": "markdown",
   "metadata": {},
   "source": [
    "<H4 styles=\"font-size:1rem;color:black;\"> Question 6 </h4>"
   ]
  },
  {
   "cell_type": "markdown",
   "metadata": {},
   "source": [
    "<h5 styles=\"font-size:1rem; color:black\"> (i) Which customer spent the most in the whole year? </h5>"
   ]
  },
  {
   "cell_type": "markdown",
   "metadata": {},
   "source": [
    "Tamara Chand"
   ]
  },
  {
   "cell_type": "markdown",
   "metadata": {},
   "source": [
    "<h5 styles=\"font-size:1rem; color:black\"> (ii) What product does the customer in (i) buy the most? </h5>"
   ]
  },
  {
   "cell_type": "code",
   "execution_count": null,
   "metadata": {},
   "outputs": [],
   "source": [
    "Sanford Markers, Water Color"
   ]
  },
  {
   "cell_type": "markdown",
   "metadata": {},
   "source": [
    "<h5 styles=\"font-size:1rem; color:black\"> (iii) Which month did the customer spent the most? </h5>"
   ]
  },
  {
   "cell_type": "code",
   "execution_count": null,
   "metadata": {},
   "outputs": [],
   "source": [
    "March"
   ]
  },
  {
   "cell_type": "markdown",
   "metadata": {},
   "source": [
    "<h5 styles=\"font-size:1rem; color:black\"> (iv) How much did this customer spend in the whole year? </h5>"
   ]
  },
  {
   "cell_type": "code",
   "execution_count": null,
   "metadata": {},
   "outputs": [],
   "source": [
    "23190.408"
   ]
  },
  {
   "cell_type": "markdown",
   "metadata": {},
   "source": [
    "<H4 styles=\"font-size:1rem;color:black;\"> Question 7 </h4>"
   ]
  },
  {
   "cell_type": "markdown",
   "metadata": {},
   "source": [
    "<h5 styles=\"font-size:1rem; color:black\"> (i) Can you do any other analysis to draw more insight? Feel free to do it. </h5>"
   ]
  }
 ],
 "metadata": {
  "kernelspec": {
   "display_name": "Python 3",
   "language": "python",
   "name": "python3"
  },
  "language_info": {
   "codemirror_mode": {
    "name": "ipython",
    "version": 3
   },
   "file_extension": ".py",
   "mimetype": "text/x-python",
   "name": "python",
   "nbconvert_exporter": "python",
   "pygments_lexer": "ipython3",
   "version": "3.8.8"
  },
  "toc-autonumbering": true,
  "toc-showcode": true,
  "toc-showmarkdowntxt": false
 },
 "nbformat": 4,
 "nbformat_minor": 4
}
